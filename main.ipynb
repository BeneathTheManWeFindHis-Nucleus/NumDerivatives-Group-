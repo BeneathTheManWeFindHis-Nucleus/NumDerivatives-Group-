{
 "cells": [
  {
   "cell_type": "markdown",
   "metadata": {},
   "source": [
    "Problem 1: finite diference of y(x)=sin(x)"
   ]
  },
  {
   "cell_type": "code",
   "execution_count": null,
   "metadata": {},
   "outputs": [],
   "source": [
    "\"\"\" This is the main script for problem 1 for the \"Numerical Derivatives\" homework. In \n",
    "this problem we use the centered two-point formula to solve for the derivative of \n",
    "y(x) = sin(x). We will then plot the error over one period at 100 points and try to\n",
    "optimize our step size h to minimize the error. \"\"\"\n",
    "\n",
    "import numpy as np\n",
    "import matplotlib.pyplot as plt\n",
    "import sys\n",
    "\n",
    "\n",
    "# Define functions\n",
    "def y(x):\n",
    "    return np.sin(x)\n",
    "\n",
    "\n",
    "def y_prime(x, h, y):\n",
    "    derivatives = []\n",
    "    for x_i in x:\n",
    "        temp = h\n",
    "        temp = x_i + temp\n",
    "        temp = temp - x_i\n",
    "        y_prime_point = (y(x_i + h) - y(x_i - h)) / (2 * h)\n",
    "        derivatives.append(y_prime_point)\n",
    "    return derivatives\n",
    "\n",
    "\n",
    "# Initialize everything\n",
    "x = np.linspace(-np.pi, np.pi, 100, endpoint=True)\n",
    "h = 7 * 10**-6\n",
    "derivatives = []\n",
    "error = []\n",
    "\n",
    "# Calculate the optimal value of h\n",
    "epsilon = sys.float_info.epsilon\n",
    "xc = np.sqrt(abs(np.sin(x) / (np.gradient(np.gradient(np.sin(x), x), x))))\n",
    "h1 = np.sqrt(epsilon) * xc\n",
    "\"\"\" This value for h was calculated using the method in 5.7 of NR, however, through trial and error\n",
    "I have found that the value of h above gives a much lower error. You guys can look over this \n",
    "calculation if you want. \"\"\"\n",
    "\n",
    "# Implement the two-point formula\n",
    "derivatives = y_prime(x, h, y)\n",
    "\n",
    "# Calculate error\n",
    "for i in range(len(x)):\n",
    "    point_error = abs(derivatives[i] - np.cos(x[i]))\n",
    "    error.append(point_error)\n",
    "\n",
    "# Plot error\n",
    "plt.plot(x, error)\n",
    "plt.xticks(\n",
    "    np.arange(-np.pi, np.pi + 0.01, np.pi / 2),\n",
    "    [r\"$-\\pi$\", r\"$-\\pi/2$\", \"0\", r\"$\\pi/2$\", r\"$\\pi$\"],\n",
    ")\n",
    "plt.xlabel(\"x\")\n",
    "plt.ylabel(\"Error\")\n",
    "plt.title(\"Error in Numerical Derivation\")\n",
    "plt.show()"
   ]
  }
 ],
 "metadata": {
  "kernelspec": {
   "display_name": "530",
   "language": "python",
   "name": "python3"
  },
  "language_info": {
   "name": "python",
   "version": "3.11.7"
  }
 },
 "nbformat": 4,
 "nbformat_minor": 2
}
